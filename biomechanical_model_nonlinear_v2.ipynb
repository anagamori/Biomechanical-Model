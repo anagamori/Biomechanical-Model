{
 "cells": [
  {
   "cell_type": "markdown",
   "metadata": {},
   "source": [
    "## Nonlinear biomechanical model\n",
    "A biomechanical model simulating the mouse ankle joint with a nonlinear muscle model. Model parameters of the skeletal segment are estimated based on the mouse forelimb. Joint excursion is constrained by exponential elastic stops. Small viscosity is added to improve the stability of the system, which is necessary for the elastic stops to work appropriately. Nonlinear properties of muscle are introduced to prevent the system from drifting when there is an offset between the flexor and extensor activities. "
   ]
  },
  {
   "cell_type": "markdown",
   "metadata": {},
   "source": [
    "### Import Libraries"
   ]
  },
  {
   "cell_type": "code",
   "execution_count": 1,
   "metadata": {},
   "outputs": [],
   "source": [
    "import time\n",
    "import numpy as np\n",
    "import matplotlib.pyplot as plt"
   ]
  },
  {
   "cell_type": "markdown",
   "metadata": {},
   "source": [
    "### Define muscle model functions \n",
    "* FL: force-legnth relationship\n",
    "* FV: force-velocity relationship\n",
    "* Fpe: passive elastic force\n",
    "* forward_dynamics: output the one time-step derivative of a state vector "
   ]
  },
  {
   "cell_type": "code",
   "execution_count": 2,
   "metadata": {},
   "outputs": [],
   "source": [
    "def FL_function(L):\n",
    "    beta = 1.55\n",
    "    omega = 0.75\n",
    "    rho = 2.12\n",
    "    \n",
    "    FL = np.exp(-np.power(abs((np.power(L,beta) - 1)/(omega)),rho));\n",
    "    return FL\n",
    "\n",
    "def FV_con_function(L,V):\n",
    "    Vmax = -9.15*2;\n",
    "    cv0 = -5.7;\n",
    "    cv1 = 9.18;\n",
    "    \n",
    "    FVcon = (Vmax - V)/(Vmax + (cv0 + cv1*L)*V);\n",
    "    return FVcon\n",
    "\n",
    "def FV_ecc_function(L,V):\n",
    "    av0 = -1.4;\n",
    "    av1 = 0.0;\n",
    "    av2 = 0.0;\n",
    "    bv = 0.72;\n",
    "    FVecc = (bv - (av0 + av1*L + av2*np.power(L,2))*V)/(bv+V);\n",
    "    \n",
    "    return FVecc\n",
    "\n",
    "def Fpe_function(L,V):\n",
    "    c1_pe1 = 23.0*6\n",
    "    k1_pe1 = 0.046\n",
    "    Lr1_pe1 = 1.17\n",
    "    eta = 0.0001;\n",
    "    \n",
    "    Fpe1 = c1_pe1 * k1_pe1 * np.log(np.exp((L - Lr1_pe1)/(k1_pe1))+1) + eta*V;\n",
    "    \n",
    "    return Fpe1\n",
    "\n",
    "def Af_function(U,L):\n",
    "    a = (2.0-0.5)/(1.0-0.001);\n",
    "    b = 0.5-(2.0-0.5)/(1.0-0.001)*.001;\n",
    "    f_eff = a*U+b;\n",
    "\n",
    "    a_f = 0.56\n",
    "    n_f0 = 2.1\n",
    "    n_f1 = 3.3\n",
    "    n_f = n_f0 + n_f1*(1.0/L-1.0);\n",
    "    Af = 1 - np.exp(-np.power(f_eff/(a_f*n_f),n_f));\n",
    "    return Af\n",
    "\n",
    "def forward_dynamis(x,dx,u,I,B,K,Lce0_1,Lce0_2,F0_1,F0_2,Lmax_1,Lmax_2,r_m1,r_m2):\n",
    "    # Minimum joint angle\n",
    "    theta_min = 40*np.pi/180.0\n",
    "    # Maximum joint angle\n",
    "    theta_max = 110*np.pi/180.0\n",
    "    \n",
    "    # Muscle time constant (sec)\n",
    "    tau_1 = 0.005;\n",
    "    tau_2 = 0.005;\n",
    "    \n",
    "    Lce_1 = x[6]/Lce0_1\n",
    "    Lce_2 = x[7]/Lce0_2\n",
    "    Vce_1 = -r_m1*x[5]/Lce0_1\n",
    "    Vce_2 = -r_m2*x[5]/Lce0_2\n",
    "    \n",
    "    FL_1 = FL_function(Lce_1)\n",
    "    FL_2 = FL_function(Lce_1)\n",
    "    \n",
    "    if Vce_1 <= 0:\n",
    "        FV_1 = FV_con_function(Lce_1,Vce_1)\n",
    "    else:\n",
    "        FV_1 = FV_ecc_function(Lce_1,Vce_1)\n",
    "    if Vce_2 <= 0:\n",
    "        FV_2 = FV_con_function(Lce_2,Vce_2)\n",
    "    else:\n",
    "        FV_2 = FV_ecc_function(Lce_2,Vce_2)\n",
    "        \n",
    "    Fpe_1 = Fpe_function(Lce_1/Lmax_1,Vce_1)\n",
    "    Fpe_2 = Fpe_function(Lce_2/Lmax_2,Vce_2)\n",
    "\n",
    "    Af_1 = Af_function(x[0],Lce_1)\n",
    "    Af_2 = Af_function(x[2],Lce_2)\n",
    "    \n",
    "    Fm_1 = (FL_1*FV_1*x[0]*Af_1+Fpe_1)*F0_1\n",
    "    Fm_2 = (FL_2*FV_2*x[2]*Af_2+Fpe_2)*F0_2\n",
    "    \n",
    "    #Fm_1 = (FL_1*FV_1*x[0]+Fpe_1)*F0_1\n",
    "    #Fm_2 = (FL_2*FV_2*x[2]+Fpe_2)*F0_2\n",
    "        \n",
    "    T_stop_1 = 0.01*np.exp(-(x[4]-theta_min)/0.01)\n",
    "    T_stop_2 = -0.01*np.exp((x[4]-theta_max)/0.01)\n",
    "    \n",
    "    dx[0] = x[1]\n",
    "    dx[1] = -x[0]/(tau_1*tau_2) - x[1]*(tau_1+tau_2)/(tau_1*tau_2) + u[0]/(tau_1*tau_2)\n",
    "    dx[2] = x[3]\n",
    "    dx[3] = -x[2]/(tau_1*tau_2) - x[3]*(tau_1+tau_2)/(tau_1*tau_2) + u[1]/(tau_1*tau_2)\n",
    "    dx[4] = x[5]\n",
    "    dx[5] = (Fm_1*r_m1 + Fm_2*r_m2 + T_stop_1 + T_stop_2)/I - B*x[5] - K*x[4]\n",
    "    dx[6] = -r_m1*x[5]\n",
    "    dx[7] = -r_m2*x[5]\n",
    "    return dx\n",
    "\n",
    "def run_sim(Fs,u_1_amp,u_2_amp):\n",
    "    h = 1/Fs\n",
    "    duration = 0.5\n",
    "    \n",
    "    # Segment length\n",
    "    L = 0.03 \n",
    "    # Distance between the rotational axis and the center of the segment \n",
    "    d = 0\n",
    "    # Segment mass\n",
    "    M = 0.0004\n",
    "    # Segment inertia\n",
    "    I = 1/12.0*np.power(L,2)*M + np.power(d,2)*M\n",
    "    # Stiffness\n",
    "    K = 0.0\n",
    "    # Viscosity \n",
    "    B = 0.0001\n",
    "\n",
    "    # Minimum joint angle\n",
    "    theta_min = 40*np.pi/180.0\n",
    "    # Maximum joint angle\n",
    "    theta_max = 110*np.pi/180.0\n",
    "    # Positive angle change => dorsiflexion \n",
    "    \n",
    "    # Maximum muscle force (N)\n",
    "    F0_1 = (7.64+1.52+0.35)*0.01*22.4\n",
    "    F0_2 = (7.64+1.52+0.35)*0.01*22.4 #(7.43+14.57+1.42+3.67+7.3+2.15)*0.01*22.4\n",
    "    # Optimal muscle fiber length\n",
    "    Lce0_1 = 0.473*0.01; # Average fiber length of all dorsiflexors \n",
    "    Lce0_2 = 0.473*0.01 #0.389*0.01; # Average fiber length of all plantarflexors \n",
    "    # Maximum muscle fiber legnth at the anatomical limit of range of motion (i.e. minimum and maximum joint angles)\n",
    "    Lmax_1 = 1.1;\n",
    "    Lmax_2 = 1.1;\n",
    "\n",
    "    # Muscle time constant (ms)\n",
    "    tau_1 = 0.005;\n",
    "    tau_2 = 0.005;\n",
    "\n",
    "    # Moment arm (m)\n",
    "    r_m1 = 0.001 #0.0006\n",
    "    r_m2 = -0.001 #-0.0015\n",
    "    \n",
    "    dLm = -r_m1*(theta_max-theta_min)\n",
    "    Lce_min_1 = (dLm + Lmax_1*Lce0_1)/Lce0_1\n",
    "    dLm = -r_m2*(theta_min-theta_max)\n",
    "    Lce_min_2 = (dLm + Lmax_2*Lce0_2)/Lce0_2\n",
    "    \n",
    "    theta_vec = np.linspace(theta_min,theta_max,1000)\n",
    "    Lce_1 = np.zeros(len(theta_vec))\n",
    "    Lce_1[0] = Lmax_1\n",
    "    Fpe_1 = np.zeros(len(theta_vec))\n",
    "    Fpe_1[0] = Fpe_function(1,0)*F0_1\n",
    "    Lce_2 = np.zeros(len(theta_vec))\n",
    "    Lce_2[0] = Lce_min_2\n",
    "    Fpe_2 = np.zeros(len(theta_vec))\n",
    "    Fpe_2[0] = Fpe_function(Lce_min_2/Lmax_2,0)*F0_2\n",
    "    for i in range(1,len(theta_vec)):\n",
    "        dLm_1 = -r_m1*(theta_vec[i]-theta_vec[i-1])\n",
    "        Lce_1[i] = (dLm_1 + Lce_1[i-1]*Lce0_1)/Lce0_1\n",
    "        Fpe_1[i] = Fpe_function(Lce_1[i]/Lmax_1,0)*F0_1\n",
    "\n",
    "        dLm_2 = -r_m2*(theta_vec[i]-theta_vec[i-1])\n",
    "        Lce_2[i] = (dLm_2 + Lce_2[i-1]*Lce0_2)/Lce0_2\n",
    "        Fpe_2[i] = Fpe_function(Lce_2[i]/Lmax_2,0)*F0_2\n",
    "        \n",
    "    eq_theta = theta_vec[np.argmin(abs(Fpe_1*r_m1-Fpe_2*-r_m2))]\n",
    "    \n",
    "    # Generate step inputs to flexor and extensor\n",
    "    time_sim = np.arange(0,duration,step = 1/Fs)\n",
    "    u_1 = np.zeros([int(duration*Fs),1])\n",
    "    u_2 = np.zeros([int(duration*Fs),1])\n",
    "    u_1[int(0.1*Fs):] = u_1_amp\n",
    "    u_2[int(0.1*Fs):] = u_2_amp\n",
    "    \n",
    "    theta = eq_theta\n",
    "    dtheta = 0\n",
    "    Lm_1 = Lce_1[np.argmin(abs(Fpe_1*r_m1-Fpe_2*-r_m2))]\n",
    "    Lm_1 = Lm_1*Lce0_1\n",
    "    Lm_2 = Lce_2[np.argmin(abs(Fpe_1*r_m1-Fpe_2*-r_m2))]\n",
    "    Lm_2 = Lm_2*Lce0_2\n",
    "    x = np.array([0.0, 0.0, 0.0, 0.0, theta, dtheta, Lm_1, Lm_2])\n",
    "    dx = np.zeros(8)\n",
    "    x_mat = np.zeros((int(duration*Fs),len(x)))\n",
    "    \n",
    "    t0 = time.time()\n",
    "    for t in range(int(duration*Fs)):\n",
    "        u = np.concatenate((u_1[t],u_2[t]))\n",
    "        f1 = forward_dynamis(x,dx,u,I,B,K,Lce0_1,Lce0_2,F0_1,F0_2,Lmax_1,Lmax_2,r_m1,r_m2)\n",
    "        x1 = x + f1*h/2\n",
    "        f2 = forward_dynamis(x1,dx,u,I,B,K,Lce0_1,Lce0_2,F0_1,F0_2,Lmax_1,Lmax_2,r_m1,r_m2)\n",
    "        x2 = x + f2*h/2\n",
    "        f3 = forward_dynamis(x2,dx,u,I,B,K,Lce0_1,Lce0_2,F0_1,F0_2,Lmax_1,Lmax_2,r_m1,r_m2)\n",
    "        x3 = x + f3*h\n",
    "        f4 = forward_dynamis(x3,dx,u,I,B,K,Lce0_1,Lce0_2,F0_1,F0_2,Lmax_1,Lmax_2,r_m1,r_m2)\n",
    "        x = x + (f1+2*f2+2*f3+f4)*h/6\n",
    "        x_mat[t,:] = x\n",
    "\n",
    "    tf = time.time()\n",
    "    total = tf-t0\n",
    "    #print(total)\n",
    "\n",
    "    return x_mat "
   ]
  },
  {
   "cell_type": "markdown",
   "metadata": {},
   "source": [
    "### Define simulation parameters "
   ]
  },
  {
   "cell_type": "code",
   "execution_count": 3,
   "metadata": {},
   "outputs": [],
   "source": [
    "Fs = 10000\n",
    "h = 1/Fs\n",
    "duration = 0.5"
   ]
  },
  {
   "cell_type": "markdown",
   "metadata": {},
   "source": [
    "### Define parameters of the biomechanical model"
   ]
  },
  {
   "cell_type": "code",
   "execution_count": 4,
   "metadata": {},
   "outputs": [],
   "source": [
    "# Segment length\n",
    "L = 0.03 \n",
    "# Distance between the rotational axis and the center of the segment \n",
    "d = 0\n",
    "# Segment mass\n",
    "M = 0.0004\n",
    "# Segment inertia\n",
    "I = 1/12.0*np.power(L,2)*M + np.power(d,2)*M\n",
    "# Stiffness\n",
    "K = 0.0\n",
    "# Viscosity \n",
    "B = 0.0001\n",
    "\n",
    "# Minimum joint angle\n",
    "theta_min = 40*np.pi/180.0\n",
    "# Maximum joint angle\n",
    "theta_max = 110*np.pi/180.0\n",
    "# Positive angle change => dorsiflexion "
   ]
  },
  {
   "cell_type": "markdown",
   "metadata": {},
   "source": [
    "* Muscle 1: dorsilexors (i.e. TA, EDL, EHL) \n",
    "* Muscle 2: plantarflexors (i.e., MG, LG, SO, PL, FDL, TP)\n",
    "\n",
    "Ref: Charles et al. (2011) [DOI: 10.1371/journal.pone.0147669]"
   ]
  },
  {
   "cell_type": "code",
   "execution_count": 5,
   "metadata": {},
   "outputs": [],
   "source": [
    "# Maximum muscle force (N)\n",
    "F0_1 = (7.64+1.52+0.35)*0.01*22.4\n",
    "F0_2 = (7.64+1.52+0.35)*0.01*22.4 #(7.43+14.57+1.42+3.67+7.3+2.15)*0.01*22.4\n",
    "# Optimal muscle fiber length\n",
    "Lce0_1 = 0.473*0.01; # Average fiber length of all dorsiflexors \n",
    "Lce0_2 = 0.473*0.01 #0.389*0.01; # Average fiber length of all plantarflexors \n",
    "# Maximum muscle fiber legnth at the anatomical limit of range of motion (i.e. minimum and maximum joint angles)\n",
    "Lmax_1 = 1.1;\n",
    "Lmax_2 = 1.1;\n",
    "\n",
    "# Muscle time constant (ms)\n",
    "tau_1 = 0.005;\n",
    "tau_2 = 0.005;\n",
    "\n",
    "# Moment arm (m)\n",
    "r_m1 = 0.001 #0.0006\n",
    "r_m2 = -0.001 #-0.0015"
   ]
  },
  {
   "cell_type": "markdown",
   "metadata": {},
   "source": [
    "### Find the minimum excursion of muscle length\n",
    "\n",
    "Check to see if the minimum muscle fiber length is within the physiological range (i.e. >0.6 L0)"
   ]
  },
  {
   "cell_type": "code",
   "execution_count": 6,
   "metadata": {},
   "outputs": [
    {
     "data": {
      "text/plain": [
       "0.8417060303602474"
      ]
     },
     "execution_count": 6,
     "metadata": {},
     "output_type": "execute_result"
    }
   ],
   "source": [
    "dLm = -r_m1*(theta_max-theta_min)\n",
    "Lce_min_1 = (dLm + Lmax_1*Lce0_1)/Lce0_1\n",
    "Lce_min_1"
   ]
  },
  {
   "cell_type": "code",
   "execution_count": 7,
   "metadata": {},
   "outputs": [
    {
     "data": {
      "text/plain": [
       "0.8417060303602474"
      ]
     },
     "execution_count": 7,
     "metadata": {},
     "output_type": "execute_result"
    }
   ],
   "source": [
    "dLm = -r_m2*(theta_min-theta_max)\n",
    "Lce_min_2 = (dLm + Lmax_2*Lce0_2)/Lce0_2\n",
    "Lce_min_2"
   ]
  },
  {
   "cell_type": "markdown",
   "metadata": {},
   "source": [
    "### Find an equilibrium joint angle"
   ]
  },
  {
   "cell_type": "code",
   "execution_count": 8,
   "metadata": {},
   "outputs": [],
   "source": [
    "theta_vec = np.linspace(theta_min,theta_max,1000)\n",
    "Lce_1 = np.zeros(len(theta_vec))\n",
    "Lce_1[0] = Lmax_1\n",
    "Fpe_1 = np.zeros(len(theta_vec))\n",
    "Fpe_1[0] = Fpe_function(1,0)*F0_1\n",
    "Lce_2 = np.zeros(len(theta_vec))\n",
    "Lce_2[0] = Lce_min_2\n",
    "Fpe_2 = np.zeros(len(theta_vec))\n",
    "Fpe_2[0] = Fpe_function(Lce_min_2/Lmax_2,0)*F0_2\n",
    "for i in range(1,len(theta_vec)):\n",
    "    dLm_1 = -r_m1*(theta_vec[i]-theta_vec[i-1])\n",
    "    Lce_1[i] = (dLm_1 + Lce_1[i-1]*Lce0_1)/Lce0_1\n",
    "    Fpe_1[i] = Fpe_function(Lce_1[i]/Lmax_1,0)*F0_1\n",
    "    \n",
    "    dLm_2 = -r_m2*(theta_vec[i]-theta_vec[i-1])\n",
    "    Lce_2[i] = (dLm_2 + Lce_2[i-1]*Lce0_2)/Lce0_2\n",
    "    Fpe_2[i] = Fpe_function(Lce_2[i]/Lmax_2,0)*F0_2"
   ]
  },
  {
   "cell_type": "code",
   "execution_count": 9,
   "metadata": {},
   "outputs": [
    {
     "data": {
      "text/plain": [
       "[<matplotlib.lines.Line2D at 0x1a295c2a940>,\n",
       " <matplotlib.lines.Line2D at 0x1a295c2aa00>]"
      ]
     },
     "execution_count": 9,
     "metadata": {},
     "output_type": "execute_result"
    },
    {
     "data": {
      "image/png": "[encoded data removed]",
      "text/plain": [
       "<Figure size 432x288 with 1 Axes>"
      ]
     },
     "metadata": {
      "needs_background": "light"
     },
     "output_type": "display_data"
    }
   ],
   "source": [
    "plt.plot(theta_vec,Fpe_1*r_m1,theta_vec,Fpe_2*-r_m2)"
   ]
  },
  {
   "cell_type": "code",
   "execution_count": 10,
   "metadata": {},
   "outputs": [
    {
     "data": {
      "text/plain": [
       "74.96496496496496"
      ]
     },
     "execution_count": 10,
     "metadata": {},
     "output_type": "execute_result"
    }
   ],
   "source": [
    "eq_theta = theta_vec[np.argmin(abs(Fpe_1*r_m1-Fpe_2*-r_m2))]\n",
    "eq_theta*180/np.pi"
   ]
  },
  {
   "cell_type": "markdown",
   "metadata": {},
   "source": [
    "### Define inputs \n",
    "* u_1: input to dorsilexors (i.e. TA, EDL, EHL) \n",
    "* u_2: input to plantarflexors (i.e., MG, LG, SO, PL, FDL, TP)"
   ]
  },
  {
   "cell_type": "code",
   "execution_count": 11,
   "metadata": {},
   "outputs": [],
   "source": [
    "# Set the amplitude of step inputs\n",
    "u_1_amp = 1.0\n",
    "u_2_amp = 0.0\n",
    "\n",
    "# Generate step inputs to flexor and extensor\n",
    "time_sim = np.arange(0,duration,step = 1/Fs)\n",
    "u_1 = np.zeros([int(duration*Fs),1])\n",
    "u_2 = np.zeros([int(duration*Fs),1])\n",
    "u_1[int(0.1*Fs):] = u_1_amp\n",
    "u_2[int(0.1*Fs):] = u_2_amp"
   ]
  },
  {
   "cell_type": "markdown",
   "metadata": {},
   "source": [
    "### Initialize parameters"
   ]
  },
  {
   "cell_type": "code",
   "execution_count": 12,
   "metadata": {},
   "outputs": [],
   "source": [
    "theta = eq_theta\n",
    "dtheta = 0\n",
    "Lm_1 = Lce_1[np.argmin(abs(Fpe_1*r_m1-Fpe_2*-r_m2))]\n",
    "Lm_1 = Lm_1*Lce0_1\n",
    "Lm_2 = Lce_2[np.argmin(abs(Fpe_1*r_m1-Fpe_2*-r_m2))]\n",
    "Lm_2 = Lm_2*Lce0_2\n",
    "x = np.array([0.0, 0.0, 0.0, 0.0, theta, dtheta, Lm_1, Lm_2])\n",
    "dx = np.zeros(8)\n",
    "x_mat = np.zeros((int(duration*Fs),len(x)))"
   ]
  },
  {
   "cell_type": "markdown",
   "metadata": {},
   "source": [
    "### Run forward simulation"
   ]
  },
  {
   "cell_type": "code",
   "execution_count": 13,
   "metadata": {},
   "outputs": [
    {
     "name": "stdout",
     "output_type": "stream",
     "text": [
      "0.963536262512207\n"
     ]
    }
   ],
   "source": [
    "t0 = time.time()\n",
    "for t in range(int(duration*Fs)):\n",
    "    u = np.concatenate((u_1[t],u_2[t]))\n",
    "    f1 = forward_dynamis(x,dx,u,I,B,K,Lce0_1,Lce0_2,F0_1,F0_2,Lmax_1,Lmax_2,r_m1,r_m2)\n",
    "    x1 = x + f1*h/2\n",
    "    f2 = forward_dynamis(x1,dx,u,I,B,K,Lce0_1,Lce0_2,F0_1,F0_2,Lmax_1,Lmax_2,r_m1,r_m2)\n",
    "    x2 = x + f2*h/2\n",
    "    f3 = forward_dynamis(x2,dx,u,I,B,K,Lce0_1,Lce0_2,F0_1,F0_2,Lmax_1,Lmax_2,r_m1,r_m2)\n",
    "    x3 = x + f3*h\n",
    "    f4 = forward_dynamis(x3,dx,u,I,B,K,Lce0_1,Lce0_2,F0_1,F0_2,Lmax_1,Lmax_2,r_m1,r_m2)\n",
    "    x = x + (f1+2*f2+2*f3+f4)*h/6\n",
    "    x_mat[t,:] = x\n",
    "                           \n",
    "tf = time.time()\n",
    "total = tf-t0\n",
    "print(total)"
   ]
  },
  {
   "cell_type": "markdown",
   "metadata": {},
   "source": [
    "### Plot data"
   ]
  },
  {
   "cell_type": "code",
   "execution_count": 14,
   "metadata": {},
   "outputs": [
    {
     "data": {
      "text/plain": [
       "(64.9649675123632, 119.4074412879977)"
      ]
     },
     "execution_count": 14,
     "metadata": {},
     "output_type": "execute_result"
    },
    {
     "data": {
      "image/png": "[encoded data removed]",
      "text/plain": [
       "<Figure size 432x288 with 1 Axes>"
      ]
     },
     "metadata": {
      "needs_background": "light"
     },
     "output_type": "display_data"
    }
   ],
   "source": [
    "min_angle = np.min(np.rad2deg(x_mat[:,4]))\n",
    "max_angle = np.max(np.rad2deg(x_mat[:,4]))\n",
    "plt.plot(time_sim,np.rad2deg(x_mat[:,4]))\n",
    "plt.ylabel('Joint Angle (deg)')\n",
    "plt.xlabel('Time (sec)')\n",
    "plt.ylim([min_angle-10, max_angle+10])"
   ]
  },
  {
   "cell_type": "code",
   "execution_count": 15,
   "metadata": {},
   "outputs": [
    {
     "data": {
      "text/plain": [
       "[<matplotlib.lines.Line2D at 0x1a29518c880>]"
      ]
     },
     "execution_count": 15,
     "metadata": {},
     "output_type": "execute_result"
    },
    {
     "data": {
      "image/png": "[encoded data removed]",
      "text/plain": [
       "<Figure size 432x288 with 1 Axes>"
      ]
     },
     "metadata": {
      "needs_background": "light"
     },
     "output_type": "display_data"
    }
   ],
   "source": [
    "plt.plot(time_sim,x_mat[:,0])"
   ]
  },
  {
   "cell_type": "code",
   "execution_count": 16,
   "metadata": {},
   "outputs": [
    {
     "name": "stdout",
     "output_type": "stream",
     "text": [
      "0\n",
      "1\n",
      "2\n",
      "3\n",
      "4\n",
      "5\n",
      "6\n",
      "7\n",
      "8\n",
      "9\n",
      "10\n"
     ]
    }
   ],
   "source": [
    "u_vec = np.linspace(0,1,11)\n",
    "angle_mat = np.empty((len(u_vec),len(u_vec)))\n",
    "angle_mat[:] = np.nan\n",
    "for i in range(len(u_vec)):\n",
    "    print(i)\n",
    "    u_2_amp= u_vec[i]\n",
    "    for j in range(len(u_vec)):\n",
    "        u_1_amp = u_vec[j]\n",
    "        x_mat = run_sim(Fs,u_1_amp,u_2_amp)\n",
    "        angle_mat[j,i] = x_mat[-1,4]"
   ]
  },
  {
   "cell_type": "code",
   "execution_count": 19,
   "metadata": {},
   "outputs": [
    {
     "data": {
      "image/png": "[encoded data removed]",
      "text/plain": [
       "<Figure size 360x360 with 2 Axes>"
      ]
     },
     "metadata": {
      "needs_background": "light"
     },
     "output_type": "display_data"
    }
   ],
   "source": [
    "fig, (ax1) = plt.subplots(figsize=(5,5), ncols=1)\n",
    "pos = ax1.imshow(np.rad2deg(angle_mat), extent=[0,100,100,0])\n",
    "ax1.set_title('Joint Angle (deg)')\n",
    "ax1.set_ylabel('Flexor (%)')\n",
    "ax1.set_xlabel('Extensor (%)')\n",
    "fig.colorbar(pos,ax=ax1)\n",
    "plt.savefig(\"joint_angle_matrix.pdf\", format=\"pdf\", bbox_inches=\"tight\")"
   ]
  },
  {
   "cell_type": "code",
   "execution_count": 18,
   "metadata": {},
   "outputs": [
    {
     "data": {
      "text/plain": [
       "1.3089498070908048"
      ]
     },
     "execution_count": 18,
     "metadata": {},
     "output_type": "execute_result"
    }
   ],
   "source": [
    "angle_mat[0,0]"
   ]
  }
 ],
 "metadata": {
  "kernelspec": {
   "display_name": "Python 3",
   "language": "python",
   "name": "python3"
  },
  "language_info": {
   "codemirror_mode": {
    "name": "ipython",
    "version": 3
   },
   "file_extension": ".py",
   "mimetype": "text/x-python",
   "name": "python",
   "nbconvert_exporter": "python",
   "pygments_lexer": "ipython3",
   "version": "3.8.5"
  }
 },
 "nbformat": 4,
 "nbformat_minor": 4
}
