{
 "cells": [
  {
   "cell_type": "markdown",
   "metadata": {},
   "source": [
    "## Nonlinear biomechanical model\n",
    "A biomechanical model simulating the mouse ankle joint with a nonlinear muscle model. Model parameters of the skeletal segment are estimated based on the mouse forelimb. Joint excursion is constrained by exponential elastic stops. Small viscosity is added to improve the stability of the system, which is necessary for the elastic stops to work appropriately. Nonlinear properties of muscle are introduced to prevent the system from drifting when there is an offset between the flexor and extensor activities. "
   ]
  },
  {
   "cell_type": "markdown",
   "metadata": {},
   "source": [
    "### Import Libraries"
   ]
  },
  {
   "cell_type": "code",
   "execution_count": 1,
   "metadata": {},
   "outputs": [],
   "source": [
    "import time\n",
    "import torch\n",
    "import numpy as np\n",
    "import matplotlib.pyplot as plt\n",
    "device = 'cpu'"
   ]
  },
  {
   "cell_type": "markdown",
   "metadata": {},
   "source": [
    "### Define muscle model functions \n",
    "* FL: force-legnth relationship\n",
    "* FV: force-velocity relationship\n",
    "* Fpe: passive elastic force"
   ]
  },
  {
   "cell_type": "code",
   "execution_count": 2,
   "metadata": {},
   "outputs": [],
   "source": [
    "def FL_function(L):\n",
    "    beta = 1.55\n",
    "    omega = 0.75\n",
    "    rho = 2.12\n",
    "    \n",
    "    FL = np.exp(-np.power(abs((np.power(L,beta) - 1)/(omega)),rho));\n",
    "    return FL"
   ]
  },
  {
   "cell_type": "code",
   "execution_count": 3,
   "metadata": {},
   "outputs": [],
   "source": [
    "def FV_con_function(L,V):\n",
    "    Vmax = -9.15*2;\n",
    "    cv0 = -5.7;\n",
    "    cv1 = 9.18;\n",
    "    \n",
    "    FVcon = (Vmax - V)/(Vmax + (cv0 + cv1*L)*V);\n",
    "    return FVcon"
   ]
  },
  {
   "cell_type": "code",
   "execution_count": 4,
   "metadata": {},
   "outputs": [],
   "source": [
    "def FV_ecc_function(L,V):\n",
    "    av0 = -1.4;\n",
    "    av1 = 0.0;\n",
    "    av2 = 0.0;\n",
    "    bv = 0.72;\n",
    "    FVecc = (bv - (av0 + av1*L + av2*np.power(L,2))*V)/(bv+V);\n",
    "    \n",
    "    return FVecc"
   ]
  },
  {
   "cell_type": "code",
   "execution_count": 5,
   "metadata": {},
   "outputs": [],
   "source": [
    "def Fpe_function(L,V):\n",
    "    c1_pe1 = 23.0*6\n",
    "    k1_pe1 = 0.046\n",
    "    Lr1_pe1 = 1.4\n",
    "    eta = 0.0001;\n",
    "    \n",
    "    Fpe1 = c1_pe1 * k1_pe1 * np.log(np.exp((L - Lr1_pe1)/(k1_pe1))+1) + eta*V;\n",
    "    \n",
    "    return Fpe1"
   ]
  },
  {
   "cell_type": "code",
   "execution_count": null,
   "metadata": {},
   "outputs": [],
   "source": []
  }
 ],
 "metadata": {
  "kernelspec": {
   "display_name": "Python 3",
   "language": "python",
   "name": "python3"
  },
  "language_info": {
   "codemirror_mode": {
    "name": "ipython",
    "version": 3
   },
   "file_extension": ".py",
   "mimetype": "text/x-python",
   "name": "python",
   "nbconvert_exporter": "python",
   "pygments_lexer": "ipython3",
   "version": "3.8.5"
  }
 },
 "nbformat": 4,
 "nbformat_minor": 4
}
