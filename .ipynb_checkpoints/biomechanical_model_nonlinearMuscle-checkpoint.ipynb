{
 "cells": [
  {
   "cell_type": "markdown",
   "metadata": {},
   "source": [
    "## Nonlinear biomechanical model\n",
    "A biomechanical model simulating the mouse elbow joint with nonlinear muscle model. Model parameters of the skeletal segment are estimated based on the mouse forelimb. Joint excursion is constrained by exponential elastic stops. Small viscosity is added to improve the stability of the system, which is necessary for the elastic stops to work appropriately. Nonlinear properties of muscle are introduced to prevent the system from drifting when there is an offset between the flexor and extensor activities. "
   ]
  },
  {
   "cell_type": "markdown",
   "metadata": {},
   "source": [
    "###  Load libraries"
   ]
  },
  {
   "cell_type": "code",
   "execution_count": 1,
   "metadata": {},
   "outputs": [],
   "source": [
    "import time\n",
    "import torch\n",
    "import numpy as np\n",
    "import matplotlib.pyplot as plt\n",
    "device = 'cpu'"
   ]
  },
  {
   "cell_type": "markdown",
   "metadata": {},
   "source": [
    "### Define muscle model functions \n",
    "* FL: force-legnth relationship\n",
    "* FV: force-velocity relationship\n",
    "* Fpe: passive elastic force"
   ]
  },
  {
   "cell_type": "code",
   "execution_count": 17,
   "metadata": {},
   "outputs": [],
   "source": [
    "def FL_function(L):\n",
    "    beta = 1.55\n",
    "    omega = 0.75\n",
    "    rho = 2.12\n",
    "    \n",
    "    FL = np.exp(-np.power(abs((np.power(L,beta) - 1)/(omega)),rho));\n",
    "    return FL"
   ]
  },
  {
   "cell_type": "code",
   "execution_count": 18,
   "metadata": {},
   "outputs": [],
   "source": [
    "def FV_con_function(L,V):\n",
    "    Vmax = -9.15*2;\n",
    "    cv0 = -5.7;\n",
    "    cv1 = 9.18;\n",
    "    \n",
    "    FVcon = (Vmax - V)/(Vmax + (cv0 + cv1*L)*V);\n",
    "    return FVcon"
   ]
  },
  {
   "cell_type": "code",
   "execution_count": 19,
   "metadata": {},
   "outputs": [],
   "source": [
    "def FV_ecc_function(L,V):\n",
    "    av0 = -1.4;\n",
    "    av1 = 0.0;\n",
    "    av2 = 0.0;\n",
    "    bv = 0.72;\n",
    "    FVecc = (bv - (av0 + av1*L + av2*np.power(L,2))*V)/(bv+V);\n",
    "    \n",
    "    return FVecc"
   ]
  },
  {
   "cell_type": "code",
   "execution_count": 40,
   "metadata": {},
   "outputs": [],
   "source": [
    "def Fpe_function(L,V):\n",
    "    c1_pe1 = 23.0*6\n",
    "    k1_pe1 = 0.046\n",
    "    Lr1_pe1 = 1.4\n",
    "    eta = 0.0001;\n",
    "    \n",
    "    Fpe1 = c1_pe1 * k1_pe1 * np.log(np.exp((L - Lr1_pe1)/(k1_pe1))+1) + eta*V;\n",
    "    \n",
    "    return Fpe1"
   ]
  },
  {
   "cell_type": "markdown",
   "metadata": {},
   "source": [
    "#### Display the nonlinear muscle properties "
   ]
  },
  {
   "cell_type": "code",
   "execution_count": 48,
   "metadata": {},
   "outputs": [
    {
     "data": {
      "text/plain": [
       "<matplotlib.legend.Legend at 0x23aa39da880>"
      ]
     },
     "execution_count": 48,
     "metadata": {},
     "output_type": "execute_result"
    },
    {
     "data": {
      "image/png": "[encoded data removed]",
      "text/plain": [
       "<Figure size 432x288 with 1 Axes>"
      ]
     },
     "metadata": {
      "needs_background": "light"
     },
     "output_type": "display_data"
    }
   ],
   "source": [
    "L = np.linspace(0.5,1.4,1000)\n",
    "FL = FL_function(L)\n",
    "Fpe = Fpe_function(L,0.0)\n",
    "plt.plot(L,FL)\n",
    "plt.plot(L,Fpe)\n",
    "plt.ylim([0, 1.5])\n",
    "plt.legend(['FL','Fpe'])"
   ]
  },
  {
   "cell_type": "code",
   "execution_count": 57,
   "metadata": {},
   "outputs": [
    {
     "data": {
      "text/plain": [
       "(0.0, 1.5)"
      ]
     },
     "execution_count": 57,
     "metadata": {},
     "output_type": "execute_result"
    },
    {
     "data": {
      "image/png": "[encoded data removed]",
      "text/plain": [
       "<Figure size 432x288 with 1 Axes>"
      ]
     },
     "metadata": {
      "needs_background": "light"
     },
     "output_type": "display_data"
    }
   ],
   "source": [
    "V = np.linspace(-15,15,1000)\n",
    "FV = np.zeros(len(V))\n",
    "for i in range(len(V)):\n",
    "    if V[i] <= 0:\n",
    "        FV[i] = FV_con_function(1.0,V[i])\n",
    "    else:\n",
    "        FV[i] = FV_ecc_function(1.0,V[i])   \n",
    "plt.plot(V,FV)\n",
    "plt.ylim([0, 1.5])\n",
    "plt.legend(['FV'])"
   ]
  },
  {
   "cell_type": "markdown",
   "metadata": {},
   "source": [
    "###  Define simulation parameters"
   ]
  },
  {
   "cell_type": "code",
   "execution_count": 58,
   "metadata": {},
   "outputs": [],
   "source": [
    "Fs = 10000\n",
    "h = 1/Fs\n",
    "duration = 1"
   ]
  },
  {
   "cell_type": "markdown",
   "metadata": {},
   "source": [
    "### Define inputs \n",
    "* u_1: input to flexor \n",
    "* u_2: input to extensor"
   ]
  },
  {
   "cell_type": "code",
   "execution_count": 59,
   "metadata": {},
   "outputs": [],
   "source": [
    "# Set the amplitude of step inputs\n",
    "u_1_amp = 1.0\n",
    "u_2_amp = 0.9\n",
    "\n",
    "# Generate step inputs to flexor and extensor\n",
    "time_sim = torch.arange(0,duration,step = 1/Fs,dtype=torch.double).to(device)\n",
    "u_1 = torch.zeros([int(duration*Fs),1],dtype=torch.double).to(device)\n",
    "u_2 = torch.zeros([int(duration*Fs),1],dtype=torch.double).to(device)\n",
    "u_1[int(0.1*Fs):] = u_1_amp\n",
    "u_2[int(0.1*Fs):] = u_2_amp"
   ]
  },
  {
   "cell_type": "markdown",
   "metadata": {},
   "source": [
    "### Define parameters of the biomechanical model"
   ]
  },
  {
   "cell_type": "code",
   "execution_count": 60,
   "metadata": {},
   "outputs": [],
   "source": [
    "# Segment length\n",
    "L = 0.015 \n",
    "# Distance between the rotational axis and the center of the segment \n",
    "d = 0.015/2-0.005\n",
    "# Segment mass\n",
    "M = 0.00020154\n",
    "# Segment inertia\n",
    "I = 1/12.0*np.power(L,2)*M + np.power(d,2)*M\n",
    "# Stiffness\n",
    "K = 0.0\n",
    "# Viscosity \n",
    "B = 0.00001\n",
    "\n",
    "# Minimum joint angle\n",
    "theta_min = 20*np.pi/180.0\n",
    "# Maximum joint angle\n",
    "theta_max = 150*np.pi/180.0"
   ]
  },
  {
   "cell_type": "code",
   "execution_count": 67,
   "metadata": {},
   "outputs": [],
   "source": [
    "# Maximum muscle force (N)\n",
    "F0 = 1.5\n",
    "# \n",
    "Lce0_1 = 0.577*0.01;\n",
    "Lce0_2 = 0.577*0.01;\n",
    "Lce_1 = Lce0_1/Lce0_1;\n",
    "Lce_2 = Lce0_2/Lce0_2;\n",
    "Vce_1 = 0;\n",
    "Vce_2 = 0;\n",
    "FLV_1 = FL_function(Lce_1)*FV_con_function(Lce_1,Vce_1);\n",
    "FLV_2 = FL_function(Lce_2)*FV_con_function(Lce_2,Vce_2);\n",
    "Fpe_1 = Fpe_function(Lce_1,Vce_1);\n",
    "Fpe_2 = Fpe_function(Lce_2,Vce_2);\n",
    "\n",
    "# Muscle time constant (ms)\n",
    "tau_1 = 0.005;\n",
    "tau_2 = 0.005;\n",
    "# Moment arm (m)\n",
    "r_m1 = 0.002\n",
    "r_m2 = -0.002"
   ]
  },
  {
   "cell_type": "markdown",
   "metadata": {},
   "source": [
    "### Initialize parameters\n",
    "* x: state vector\n",
    "<br>\n",
    "x[0]: joint angle\n",
    "<br>\n",
    "x[1]: joint angular velocity\n",
    "<br>\n",
    "x[2]: flexor muscle force \n",
    "<br>\n",
    "x[3]: its derivatve\n",
    "<br>\n",
    "x[4]: extensor muscle force\n",
    "<br>\n",
    "x[5]: its derivative\n",
    "* u: input vector\n",
    "<br>\n",
    "u[0]: input to flexor \n",
    "<br>\n",
    "u[1]: input to extensor"
   ]
  },
  {
   "cell_type": "code",
   "execution_count": 68,
   "metadata": {},
   "outputs": [],
   "source": [
    "x = torch.tensor([90*np.pi/180,0,0,0,0,0],dtype = torch.double).to(device)\n",
    "u = torch.zeros([2],dtype = torch.double).to(device)"
   ]
  },
  {
   "cell_type": "markdown",
   "metadata": {},
   "source": [
    "### Define state and input matrices and torque vector for joint constraints "
   ]
  },
  {
   "cell_type": "code",
   "execution_count": 69,
   "metadata": {},
   "outputs": [],
   "source": [
    "A_mat = torch.tensor([[0,1,0,0,0,0],\n",
    "                      [-K/I,-B/I,r_m1*F0*(FLV_1+Fpe_1)/I,0,r_m2*F0*(FLV_2+Fpe_2)/I,0],\n",
    "                      [0,0,-1/tau_2,1/tau_2,0,0],\n",
    "                      [0,0,0,-1/tau_1,0,0],\n",
    "                      [0,0,0,0,-1/tau_2,1/tau_2],\n",
    "                      [0,0,0,0,0,-1/tau_1]],dtype = torch.double).to(device)\n",
    "B_mat = torch.tensor([[0,0],\n",
    "                      [0,0],\n",
    "                      [0,0],\n",
    "                      [1/tau_1,0],\n",
    "                      [0,0],\n",
    "                      [0,1/tau_1]],dtype = torch.double).to(device)\n",
    "T_stop = torch.zeros([6],dtype = torch.double).to(device)"
   ]
  },
  {
   "cell_type": "markdown",
   "metadata": {},
   "source": [
    "### Variables to store data"
   ]
  },
  {
   "cell_type": "code",
   "execution_count": 70,
   "metadata": {},
   "outputs": [],
   "source": [
    "x_mat = torch.empty(0, dtype=torch.double).to(device)\n",
    "u_mat = torch.empty(0, dtype=torch.double).to(device)"
   ]
  },
  {
   "cell_type": "markdown",
   "metadata": {},
   "source": [
    "### Start forward simulations "
   ]
  },
  {
   "cell_type": "code",
   "execution_count": 71,
   "metadata": {},
   "outputs": [
    {
     "name": "stdout",
     "output_type": "stream",
     "text": [
      "5.295575380325317\n"
     ]
    }
   ],
   "source": [
    "t0 = time.time()\n",
    "for t in range(int(duration*Fs)):\n",
    "    u[0] = u_1[t] \n",
    "    u[1] = u_2[t]\n",
    "    \n",
    "    \n",
    "    k1 = h*(torch.mv(A_mat,x) + torch.mv(B_mat,u) + T_stop)\n",
    "    k2 = h*(torch.mv(A_mat,x+k1/2) + torch.mv(B_mat,u) + T_stop)\n",
    "    k3 = h*(torch.mv(A_mat,x+k2/2) + torch.mv(B_mat,u) + T_stop)\n",
    "    k4 = h*(torch.mv(A_mat,x+k3) + torch.mv(B_mat,u) + T_stop)\n",
    "    x = x + 1/6*(k1+2*k2+2*k3+k4)\n",
    "    \n",
    "    T_stop_1 = 0.01*torch.exp(-(x[0]-theta_min)/0.01)\n",
    "    T_stop_2 = -0.01*torch.exp((x[0]-theta_max)/0.01)\n",
    "    T_stop[1] = (T_stop_1+T_stop_2)/I\n",
    "     \n",
    "    Vce_1 = (x[1]*-r_m1)/Lce0_1\n",
    "    Lce_1 = Vce_1*h + Lce_1\n",
    "    Vce_2 = (x[1]*-r_m2)/Lce0_2\n",
    "    Lce_2 = Vce_2*h + Lce_2\n",
    "    if Vce_1 <= 0:\n",
    "        FLV_1 = FL_function(Lce_1)*FV_con_function(Lce_1,Vce_1)\n",
    "    else:\n",
    "        FLV_1 = FL_function(Lce_1)*FV_ecc_function(Lce_1,Vce_1)\n",
    "    if Vce_2 <= 0:\n",
    "        FLV_2 = FL_function(Lce_2)*FV_con_function(Lce_2,Vce_2)\n",
    "    else:\n",
    "        FLV_2 = FL_function(Lce_2)*FV_ecc_function(Lce_2,Vce_2)\n",
    "    Fpe_1 = Fpe1_function(Lce_1,Vce_1)\n",
    "    Fpe_2 = Fpe1_function(Lce_2,Vce_2)\n",
    "    \n",
    "    A_mat = torch.tensor([[0,1,0,0,0,0],\n",
    "                      [-K/I,-B/I,r_m1*F0*(FLV_1+Fpe_1)/I,0,r_m2*F0*(FLV_2+Fpe_2)/I,0],\n",
    "                      [0,0,-1/tau_2,1/tau_2,0,0],\n",
    "                      [0,0,0,-1/tau_1,0,0],\n",
    "                      [0,0,0,0,-1/tau_2,1/tau_2],\n",
    "                      [0,0,0,0,0,-1/tau_1]],dtype = torch.double).to(device)\n",
    "    \n",
    "    x_mat =  torch.cat((x_mat,x.unsqueeze(0)),0)   \n",
    "    u_mat =  torch.cat((u_mat,u.unsqueeze(0)),0)   \n",
    "    \n",
    "\n",
    "tf = time.time()\n",
    "total = tf-t0\n",
    "print(total)"
   ]
  },
  {
   "cell_type": "markdown",
   "metadata": {},
   "source": [
    "### Plot data"
   ]
  },
  {
   "cell_type": "code",
   "execution_count": 72,
   "metadata": {},
   "outputs": [
    {
     "data": {
      "image/png": "[encoded data removed]",
      "text/plain": [
       "<Figure size 432x288 with 1 Axes>"
      ]
     },
     "metadata": {
      "needs_background": "light"
     },
     "output_type": "display_data"
    }
   ],
   "source": [
    "min_angle = np.min(np.rad2deg(x_mat[:,0].data.cpu().numpy()))\n",
    "max_angle = np.max(np.rad2deg(x_mat[:,0].data.cpu().numpy()))\n",
    "plt.plot(time_sim.data.cpu().numpy(),np.rad2deg(x_mat[:,0].data.cpu().numpy()))\n",
    "plt.ylim([min_angle-10, max_angle+10])\n",
    "plt.show()"
   ]
  },
  {
   "cell_type": "code",
   "execution_count": 35,
   "metadata": {},
   "outputs": [
    {
     "data": {
      "text/plain": [
       "tensor(1.4160, dtype=torch.float64)"
      ]
     },
     "execution_count": 35,
     "metadata": {},
     "output_type": "execute_result"
    }
   ],
   "source": [
    "Lce_1"
   ]
  },
  {
   "cell_type": "code",
   "execution_count": null,
   "metadata": {},
   "outputs": [],
   "source": []
  }
 ],
 "metadata": {
  "kernelspec": {
   "display_name": "Python 3",
   "language": "python",
   "name": "python3"
  },
  "language_info": {
   "codemirror_mode": {
    "name": "ipython",
    "version": 3
   },
   "file_extension": ".py",
   "mimetype": "text/x-python",
   "name": "python",
   "nbconvert_exporter": "python",
   "pygments_lexer": "ipython3",
   "version": "3.8.5"
  }
 },
 "nbformat": 4,
 "nbformat_minor": 4
}
